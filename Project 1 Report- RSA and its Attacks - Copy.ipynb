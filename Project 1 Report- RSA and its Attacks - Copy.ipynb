{
 "cells": [
  {
   "cell_type": "markdown",
   "metadata": {},
   "source": [
    "Team HKV: Michael Keller, Henry Herzfeld, Yuri Villanueva"
   ]
  },
  {
   "cell_type": "markdown",
   "metadata": {},
   "source": [
    "In this report, we attempt to implement RSA in Python. While the C library NTL is preferred by many for large number operations, we chose to invesigate whether Python can achieve the same or better performance than NTL using existing libraries or packages in conjunction with those that we create. Our results will be detailed in this document, in the hopes that they can be compared with those of other groups in order to make this determination."
   ]
  },
  {
   "cell_type": "markdown",
   "metadata": {},
   "source": [
    "# Naive RSA Decryption vs CRT Decryption"
   ]
  },
  {
   "cell_type": "markdown",
   "metadata": {},
   "source": [
    "First, we were asked to investigate the difference in performance between a naive RSA implementation and an RSA implementation that uses the Chinese Remainder Theorem. "
   ]
  },
  {
   "cell_type": "markdown",
   "metadata": {},
   "source": [
    "First, we must perform key generation. Let $N=pq$ be the product of two large primes of the same size ($n/2$ bits each, where $n$ is the key size).\n",
    "\n",
    "Let $e$, $d$ be two integers satisfiyng $ed=1 (mod  phi(N))$ where $phi(N)=(p-1)(q-1)$ is the order of $Z_n$.\n",
    "\n",
    "We call $N$ the RSA modulus, $e$ the encryption exponent, and $d$ the decryption exponent.\n",
    "\n",
    "The pair $<N, e>$ is the public key that is used to encrypt messages. We represent it as an ordered pair in our implementation.\n",
    "\n",
    "The pair $<N, d>$ is the private key which is known only to the intended recipient(s) of messages. It is used for message decryption. It is also represented as an ordered pair in our implementation.\n",
    "\n",
    "So, note that the variable \"public key\" contains the pair $(N, e)$ and the variable \"private_key\" contains the the pair $(N, d)$.\n",
    "\n",
    "We create three different RSA schemes to generate keys with. The first uses a bitwise powmodn function. The second uses an optimized recursive powmodn function with tail recursion. The third invokes the Python library gmpy2, which pulls in some C packages to speed up decryption. Of all steps in the RSA procedure, key generation takes the most time by far. We will run the RSA process with each of these powmodn functions for decryption and compare their running times over an average of 10 runs. To this end, we must first create key sizes that are powers of 2 from 128 bits up to 4096 bits for comparison. \n",
    "\n",
    "We do this for each RSA scheme that we have created, resulting in 3 sets of keys of size 128 to 4096 in powers of 2. We merge these results into a list variable called \"keys.\""
   ]
  },
  {
   "cell_type": "code",
   "execution_count": 7,
   "metadata": {},
   "outputs": [],
   "source": [
    "from RSA import RSA\n",
    "from powmodn import rec_pow_mod_n, bit_pow_mod_n\n",
    "from util import lcm, int2string, string2int\n",
    "from math import gcd\n",
    "from rt import rt2, rt4, rt_average_2, rt_average_4, rt3\n",
    "import pandas as pd\n",
    "from tail_optimized import tail_rec_pow_mod_n\n",
    "from scipy.stats import pearsonr\n",
    "import time\n",
    "import matplotlib.pyplot as plt\n",
    "from random import randrange"
   ]
  },
  {
   "cell_type": "code",
   "execution_count": 8,
   "metadata": {},
   "outputs": [
    {
     "name": "stdout",
     "output_type": "stream",
     "text": [
      "RSA scheme using bit_pow_mod_n and rec_inverse algorithms\n",
      "RSA scheme using tail_rec_pow_mod_n and rec_inverse algorithms\n",
      "RSA scheme using powmod and rec_inverse algorithms\n"
     ]
    }
   ],
   "source": [
    "scheme1 = RSA(powmodn=bit_pow_mod_n)\n",
    "scheme2 = RSA(powmodn=tail_rec_pow_mod_n)\n",
    "scheme3 = RSA(gmp=True)\n",
    "\n",
    "schemes = [scheme1, scheme2, scheme3]\n",
    "keys=[]\n",
    "\n",
    "for scheme in schemes:\n",
    "    for i in range (7, 13):\n",
    "        key=(p, q, n, l, e, d, public_key, private_key)=scheme.generate_keys(bit_length=2**i)\n",
    "        keys.append(key)"
   ]
  },
  {
   "cell_type": "markdown",
   "metadata": {},
   "source": [
    "Next, we perform encryption with each key size. A message is an integer $M$ in $Z_n$. To encrypt $M$, we compute: \n",
    "\n",
    "$$C=M^e (mod N)$$\n",
    "\n",
    "First, we create a string variable \"m\" to be our actual message. Then, we convert it to an integer value using byte encoding so that it can be used with the RSA cryptosystem. Then, we perform the encryption computation described above. \n",
    "\n",
    "We do this computation for every key in the list \"keys\". Since RSA encryption is deterministic, we use the same encryption algorithm for all three schemes. It therefore does not matter which scheme's encryption function we call (scheme1, scheme2, scheme3). We merge the resulting ciphertexts into a list variable called \"ciphertexts.\""
   ]
  },
  {
   "cell_type": "code",
   "execution_count": 9,
   "metadata": {},
   "outputs": [
    {
     "name": "stdout",
     "output_type": "stream",
     "text": [
      "\n",
      "Original plaintext message:  The quick brown fox jumps over the lazy dog.\n"
     ]
    }
   ],
   "source": [
    "message=\"The quick brown fox jumps over the lazy dog.\"\n",
    "print(\"\\nOriginal plaintext message: \", message)\n",
    "\n",
    "m = string2int(message)\n",
    "ciphertexts=[]\n",
    "\n",
    "for i in range(0, (len(keys))):\n",
    "    c=scheme1.rsa_encrypt(m, key[6])\n",
    "    ciphertext=int2string(c)\n",
    "    ciphertexts.append(c)"
   ]
  },
  {
   "cell_type": "markdown",
   "metadata": {},
   "source": [
    "Next, we perform decryption with each key size. To decrypt $M$, we the legitimate receiver computes:\n",
    "\n",
    "$$M=C^d (mod N)$$\n",
    "\n",
    "It is easy to see from Euler's theorem that:\n",
    "\n",
    "$$C^d=M^ed=M (mod N)$$\n",
    "\n",
    "In our implementation, we perform this computation using three different algorithms. The RSA scheme object \"scheme1\" uses a bitwise powmodn algorithm. The RSA scheme object scheme2 uses an optimized recursive powmodn algorithm that uses tail recursion. The RSA scheme object scheme3 uses the library gmpy2, which has its own optimized powmodn algorithm.\n",
    "\n",
    "We will use the \"scheme1\" decryption algorithm on the first set of ciphertexts computed using the first set of keys. We will use the \"scheme2\" decryption algorithm on the second set of ciphertexts computed using the second set of keys. We will use the \"scheme3\" decryption algorithm on the third set of ciphertexts computed using the third set of keys.\n",
    "\n",
    "For each of these decryption algorithms, we run them alone and then again with the Chinese Remainder Theorem optimization that allows us to compute the multiplicative inverse in $Z_n$ faster. We run each of these algorithms 10 times and compute the average running time over the 10 runs. Then, we store these averages in list variables. Then, we use these list values to create three tables of running time values. The first table will compare the running time of each of 6 decryption algorithms:\n",
    "\n",
    "1. Bitwise without CRT\n",
    "2. Bitwise CRT\n",
    "3. Tail Recursion without CRT\n",
    "4. Tail Recursion CRT\n",
    "5. GMP without CRT\n",
    "6. GMP CRT\n",
    "\n",
    "The second table will compare the running time of the first 4 above algorithms. The third table will compare the running time of algorithms 1, 2, 5, and 6.\n",
    "\n",
    "Then, we use the first table to create a line plot. This line plot plots the running time as a function of key size, for each of the 6 above decryption algorithms.\n",
    "\n",
    "Then, we use the second table to create a line plot that plots running time as a function of key size for each of the first 4 decryption algorithms.\n",
    "\n",
    "Finally, we use the third table to create a line plot that plots running time as a function of key size for algorithms 1, 2, 5, and 6."
   ]
  },
  {
   "cell_type": "code",
   "execution_count": 10,
   "metadata": {},
   "outputs": [
    {
     "data": {
      "text/html": [
       "<div>\n",
       "<style scoped>\n",
       "    .dataframe tbody tr th:only-of-type {\n",
       "        vertical-align: middle;\n",
       "    }\n",
       "\n",
       "    .dataframe tbody tr th {\n",
       "        vertical-align: top;\n",
       "    }\n",
       "\n",
       "    .dataframe thead th {\n",
       "        text-align: right;\n",
       "    }\n",
       "</style>\n",
       "<table border=\"1\" class=\"dataframe\">\n",
       "  <thead>\n",
       "    <tr style=\"text-align: right;\">\n",
       "      <th></th>\n",
       "      <th>Key Size</th>\n",
       "      <th>Bitwise No CRT</th>\n",
       "      <th>Bitwise CRT</th>\n",
       "      <th>Recursive No CRT</th>\n",
       "      <th>Recursive CRT</th>\n",
       "      <th>GMP No CRT</th>\n",
       "      <th>GMP CRT</th>\n",
       "    </tr>\n",
       "  </thead>\n",
       "  <tbody>\n",
       "    <tr>\n",
       "      <th>0</th>\n",
       "      <td>128</td>\n",
       "      <td>0.000298</td>\n",
       "      <td>0.000397</td>\n",
       "      <td>0.003543</td>\n",
       "      <td>0.001339</td>\n",
       "      <td>0.001263</td>\n",
       "      <td>0.000198</td>\n",
       "    </tr>\n",
       "    <tr>\n",
       "      <th>1</th>\n",
       "      <td>256</td>\n",
       "      <td>0.000893</td>\n",
       "      <td>0.001041</td>\n",
       "      <td>0.005406</td>\n",
       "      <td>0.002926</td>\n",
       "      <td>0.000149</td>\n",
       "      <td>0.000446</td>\n",
       "    </tr>\n",
       "    <tr>\n",
       "      <th>2</th>\n",
       "      <td>512</td>\n",
       "      <td>0.003075</td>\n",
       "      <td>0.002629</td>\n",
       "      <td>0.013987</td>\n",
       "      <td>0.007292</td>\n",
       "      <td>0.000988</td>\n",
       "      <td>0.001404</td>\n",
       "    </tr>\n",
       "    <tr>\n",
       "      <th>3</th>\n",
       "      <td>1024</td>\n",
       "      <td>0.014831</td>\n",
       "      <td>0.008135</td>\n",
       "      <td>0.044536</td>\n",
       "      <td>0.019051</td>\n",
       "      <td>0.006983</td>\n",
       "      <td>0.004364</td>\n",
       "    </tr>\n",
       "    <tr>\n",
       "      <th>4</th>\n",
       "      <td>2048</td>\n",
       "      <td>0.084716</td>\n",
       "      <td>0.040325</td>\n",
       "      <td>0.159811</td>\n",
       "      <td>0.062992</td>\n",
       "      <td>0.050840</td>\n",
       "      <td>0.019687</td>\n",
       "    </tr>\n",
       "    <tr>\n",
       "      <th>5</th>\n",
       "      <td>4096</td>\n",
       "      <td>0.505274</td>\n",
       "      <td>0.189125</td>\n",
       "      <td>0.631904</td>\n",
       "      <td>0.266748</td>\n",
       "      <td>0.374385</td>\n",
       "      <td>0.113981</td>\n",
       "    </tr>\n",
       "  </tbody>\n",
       "</table>\n",
       "</div>"
      ],
      "text/plain": [
       "   Key Size  Bitwise No CRT  Bitwise CRT  Recursive No CRT  Recursive CRT  \\\n",
       "0       128        0.000298     0.000397          0.003543       0.001339   \n",
       "1       256        0.000893     0.001041          0.005406       0.002926   \n",
       "2       512        0.003075     0.002629          0.013987       0.007292   \n",
       "3      1024        0.014831     0.008135          0.044536       0.019051   \n",
       "4      2048        0.084716     0.040325          0.159811       0.062992   \n",
       "5      4096        0.505274     0.189125          0.631904       0.266748   \n",
       "\n",
       "   GMP No CRT   GMP CRT  \n",
       "0    0.001263  0.000198  \n",
       "1    0.000149  0.000446  \n",
       "2    0.000988  0.001404  \n",
       "3    0.006983  0.004364  \n",
       "4    0.050840  0.019687  \n",
       "5    0.374385  0.113981  "
      ]
     },
     "execution_count": 10,
     "metadata": {},
     "output_type": "execute_result"
    }
   ],
   "source": [
    "bit_lengths=[2**(7+i) for i in range(0, (len(keys))//3)]\n",
    "reg_running_times_bit,CRT_running_times_bit,=[],[]\n",
    "reg_running_times_rec,CRT_running_times_rec=[],[]\n",
    "reg_running_times_gmp,CRT_running_times_gmp=[],[]\n",
    "\n",
    "for i in range(0, (len(keys))//3):\n",
    "    # Evaluating bit powmodn RSA scheme\n",
    "    running_time_avg = rt_average_2(scheme1.rsa_decrypt, ciphertexts[i], keys[i][7], 10)\n",
    "    CRT_running_time_avg = rt_average_4(scheme1.CRT_rsa_decrypt, ciphertexts[i], keys[i][7], keys[i][0], keys[i][1], 10) \n",
    "    CRT_running_times_bit.append(CRT_running_time_avg) \n",
    "    reg_running_times_bit.append(running_time_avg)\n",
    "\n",
    "for i in range(len(keys)//3, 2*(len(keys))//3):\n",
    "    # Evaluating recursive powmodn RSA scheme   \n",
    "    running_time_avg = rt_average_2(scheme2.rsa_decrypt, ciphertexts[i], keys[i][7], 10)\n",
    "    CRT_running_time_avg = rt_average_4(scheme2.CRT_rsa_decrypt, ciphertexts[i], keys[i][7], keys[i][0], keys[i][1], 10) \n",
    "    reg_running_times_rec.append(running_time_avg)\n",
    "    CRT_running_times_rec.append(CRT_running_time_avg)\n",
    " \n",
    "for i in range(2*(len(keys))//3, len(keys)):\n",
    "    # Evaluating GMP-accelerated powmodn RSA scheme \n",
    "    running_time_avg = rt_average_2(scheme3.rsa_decrypt, ciphertexts[i], keys[i][7], 10)\n",
    "    CRT_running_time_avg = rt_average_4(scheme3.CRT_rsa_decrypt, ciphertexts[i], keys[i][7], keys[i][0], keys[i][1], 10) \n",
    "    CRT_running_times_gmp.append(CRT_running_time_avg) \n",
    "    reg_running_times_gmp.append(running_time_avg)\n",
    "    \n",
    "# Creating dataframes for tables\n",
    "rt_table_6=pd.DataFrame(list(zip(bit_lengths, reg_running_times_bit, CRT_running_times_bit, reg_running_times_rec, CRT_running_times_rec, reg_running_times_gmp, CRT_running_times_gmp)), columns=['Key Size','Bitwise No CRT', 'Bitwise CRT', 'Recursive No CRT', 'Recursive CRT', 'GMP No CRT', 'GMP CRT'])\n",
    "rt_table_6"
   ]
  },
  {
   "cell_type": "code",
   "execution_count": 11,
   "metadata": {},
   "outputs": [
    {
     "data": {
      "text/plain": [
       "Text(0, 0.5, 'Running Time (sec)')"
      ]
     },
     "execution_count": 11,
     "metadata": {},
     "output_type": "execute_result"
    },
    {
     "data": {
      "image/png": "[encoded data removed]",
      "text/plain": [
       "<Figure size 432x288 with 1 Axes>"
      ]
     },
     "metadata": {
      "needs_background": "light"
     },
     "output_type": "display_data"
    }
   ],
   "source": [
    "ax_6=rt_table_6.plot(x='Key Size', y=['Bitwise No CRT', 'Bitwise CRT', 'Recursive No CRT', 'Recursive CRT', 'GMP No CRT', 'GMP CRT'], kind='line')\n",
    "ax_6.set_ylabel(\"Running Time (sec)\")"
   ]
  },
  {
   "cell_type": "code",
   "execution_count": 12,
   "metadata": {},
   "outputs": [
    {
     "data": {
      "text/html": [
       "<div>\n",
       "<style scoped>\n",
       "    .dataframe tbody tr th:only-of-type {\n",
       "        vertical-align: middle;\n",
       "    }\n",
       "\n",
       "    .dataframe tbody tr th {\n",
       "        vertical-align: top;\n",
       "    }\n",
       "\n",
       "    .dataframe thead th {\n",
       "        text-align: right;\n",
       "    }\n",
       "</style>\n",
       "<table border=\"1\" class=\"dataframe\">\n",
       "  <thead>\n",
       "    <tr style=\"text-align: right;\">\n",
       "      <th></th>\n",
       "      <th>Key Size</th>\n",
       "      <th>Bitwise No CRT</th>\n",
       "      <th>Bitwise CRT</th>\n",
       "      <th>Recursive No CRT</th>\n",
       "      <th>Recursive CRT</th>\n",
       "    </tr>\n",
       "  </thead>\n",
       "  <tbody>\n",
       "    <tr>\n",
       "      <th>0</th>\n",
       "      <td>128</td>\n",
       "      <td>0.000298</td>\n",
       "      <td>0.000397</td>\n",
       "      <td>0.003543</td>\n",
       "      <td>0.001339</td>\n",
       "    </tr>\n",
       "    <tr>\n",
       "      <th>1</th>\n",
       "      <td>256</td>\n",
       "      <td>0.000893</td>\n",
       "      <td>0.001041</td>\n",
       "      <td>0.005406</td>\n",
       "      <td>0.002926</td>\n",
       "    </tr>\n",
       "    <tr>\n",
       "      <th>2</th>\n",
       "      <td>512</td>\n",
       "      <td>0.003075</td>\n",
       "      <td>0.002629</td>\n",
       "      <td>0.013987</td>\n",
       "      <td>0.007292</td>\n",
       "    </tr>\n",
       "    <tr>\n",
       "      <th>3</th>\n",
       "      <td>1024</td>\n",
       "      <td>0.014831</td>\n",
       "      <td>0.008135</td>\n",
       "      <td>0.044536</td>\n",
       "      <td>0.019051</td>\n",
       "    </tr>\n",
       "    <tr>\n",
       "      <th>4</th>\n",
       "      <td>2048</td>\n",
       "      <td>0.084716</td>\n",
       "      <td>0.040325</td>\n",
       "      <td>0.159811</td>\n",
       "      <td>0.062992</td>\n",
       "    </tr>\n",
       "    <tr>\n",
       "      <th>5</th>\n",
       "      <td>4096</td>\n",
       "      <td>0.505274</td>\n",
       "      <td>0.189125</td>\n",
       "      <td>0.631904</td>\n",
       "      <td>0.266748</td>\n",
       "    </tr>\n",
       "  </tbody>\n",
       "</table>\n",
       "</div>"
      ],
      "text/plain": [
       "   Key Size  Bitwise No CRT  Bitwise CRT  Recursive No CRT  Recursive CRT\n",
       "0       128        0.000298     0.000397          0.003543       0.001339\n",
       "1       256        0.000893     0.001041          0.005406       0.002926\n",
       "2       512        0.003075     0.002629          0.013987       0.007292\n",
       "3      1024        0.014831     0.008135          0.044536       0.019051\n",
       "4      2048        0.084716     0.040325          0.159811       0.062992\n",
       "5      4096        0.505274     0.189125          0.631904       0.266748"
      ]
     },
     "execution_count": 12,
     "metadata": {},
     "output_type": "execute_result"
    }
   ],
   "source": [
    "rt_table_4=pd.DataFrame(list(zip(bit_lengths, reg_running_times_bit, CRT_running_times_bit, reg_running_times_rec, CRT_running_times_rec)), columns=['Key Size','Bitwise No CRT', 'Bitwise CRT', 'Recursive No CRT', 'Recursive CRT'])\n",
    "rt_table_4"
   ]
  },
  {
   "cell_type": "code",
   "execution_count": 13,
   "metadata": {},
   "outputs": [
    {
     "data": {
      "text/plain": [
       "Text(0, 0.5, 'Running Time (sec)')"
      ]
     },
     "execution_count": 13,
     "metadata": {},
     "output_type": "execute_result"
    },
    {
     "data": {
      "image/png": "[encoded data removed]",
      "text/plain": [
       "<Figure size 432x288 with 1 Axes>"
      ]
     },
     "metadata": {
      "needs_background": "light"
     },
     "output_type": "display_data"
    }
   ],
   "source": [
    "ax_4=rt_table_4.plot(x='Key Size', y=['Bitwise No CRT', 'Bitwise CRT', 'Recursive No CRT', 'Recursive CRT'], kind='line')\n",
    "ax_4.set_ylabel(\"Running Time (sec)\")"
   ]
  },
  {
   "cell_type": "code",
   "execution_count": 14,
   "metadata": {},
   "outputs": [
    {
     "data": {
      "text/html": [
       "<div>\n",
       "<style scoped>\n",
       "    .dataframe tbody tr th:only-of-type {\n",
       "        vertical-align: middle;\n",
       "    }\n",
       "\n",
       "    .dataframe tbody tr th {\n",
       "        vertical-align: top;\n",
       "    }\n",
       "\n",
       "    .dataframe thead th {\n",
       "        text-align: right;\n",
       "    }\n",
       "</style>\n",
       "<table border=\"1\" class=\"dataframe\">\n",
       "  <thead>\n",
       "    <tr style=\"text-align: right;\">\n",
       "      <th></th>\n",
       "      <th>Key Size</th>\n",
       "      <th>Bitwise No CRT</th>\n",
       "      <th>Bitwise CRT</th>\n",
       "      <th>GMP No CRT</th>\n",
       "      <th>GMP CRT</th>\n",
       "    </tr>\n",
       "  </thead>\n",
       "  <tbody>\n",
       "    <tr>\n",
       "      <th>0</th>\n",
       "      <td>128</td>\n",
       "      <td>0.000298</td>\n",
       "      <td>0.000397</td>\n",
       "      <td>0.001263</td>\n",
       "      <td>0.000198</td>\n",
       "    </tr>\n",
       "    <tr>\n",
       "      <th>1</th>\n",
       "      <td>256</td>\n",
       "      <td>0.000893</td>\n",
       "      <td>0.001041</td>\n",
       "      <td>0.000149</td>\n",
       "      <td>0.000446</td>\n",
       "    </tr>\n",
       "    <tr>\n",
       "      <th>2</th>\n",
       "      <td>512</td>\n",
       "      <td>0.003075</td>\n",
       "      <td>0.002629</td>\n",
       "      <td>0.000988</td>\n",
       "      <td>0.001404</td>\n",
       "    </tr>\n",
       "    <tr>\n",
       "      <th>3</th>\n",
       "      <td>1024</td>\n",
       "      <td>0.014831</td>\n",
       "      <td>0.008135</td>\n",
       "      <td>0.006983</td>\n",
       "      <td>0.004364</td>\n",
       "    </tr>\n",
       "    <tr>\n",
       "      <th>4</th>\n",
       "      <td>2048</td>\n",
       "      <td>0.084716</td>\n",
       "      <td>0.040325</td>\n",
       "      <td>0.050840</td>\n",
       "      <td>0.019687</td>\n",
       "    </tr>\n",
       "    <tr>\n",
       "      <th>5</th>\n",
       "      <td>4096</td>\n",
       "      <td>0.505274</td>\n",
       "      <td>0.189125</td>\n",
       "      <td>0.374385</td>\n",
       "      <td>0.113981</td>\n",
       "    </tr>\n",
       "  </tbody>\n",
       "</table>\n",
       "</div>"
      ],
      "text/plain": [
       "   Key Size  Bitwise No CRT  Bitwise CRT  GMP No CRT   GMP CRT\n",
       "0       128        0.000298     0.000397    0.001263  0.000198\n",
       "1       256        0.000893     0.001041    0.000149  0.000446\n",
       "2       512        0.003075     0.002629    0.000988  0.001404\n",
       "3      1024        0.014831     0.008135    0.006983  0.004364\n",
       "4      2048        0.084716     0.040325    0.050840  0.019687\n",
       "5      4096        0.505274     0.189125    0.374385  0.113981"
      ]
     },
     "execution_count": 14,
     "metadata": {},
     "output_type": "execute_result"
    }
   ],
   "source": [
    "rt_table_gmp=pd.DataFrame(list(zip(bit_lengths, reg_running_times_bit, CRT_running_times_bit, reg_running_times_gmp, CRT_running_times_gmp)), columns=['Key Size','Bitwise No CRT', 'Bitwise CRT', 'GMP No CRT', 'GMP CRT'])\n",
    "rt_table_gmp"
   ]
  },
  {
   "cell_type": "code",
   "execution_count": 15,
   "metadata": {},
   "outputs": [
    {
     "data": {
      "text/plain": [
       "Text(0, 0.5, 'Running Time (sec)')"
      ]
     },
     "execution_count": 15,
     "metadata": {},
     "output_type": "execute_result"
    },
    {
     "data": {
      "image/png": "[encoded data removed]",
      "text/plain": [
       "<Figure size 432x288 with 1 Axes>"
      ]
     },
     "metadata": {
      "needs_background": "light"
     },
     "output_type": "display_data"
    }
   ],
   "source": [
    "ax_gmp=rt_table_gmp.plot(x='Key Size', y=['Bitwise No CRT', 'Bitwise CRT', 'GMP No CRT', 'GMP CRT'], kind='line')\n",
    "ax_gmp.set_ylabel(\"Running Time (sec)\")"
   ]
  },
  {
   "cell_type": "markdown",
   "metadata": {},
   "source": [
    "From the tables and the plots above, we can observe the following:\n",
    "\n",
    "As expected, the recursive algorithm which does not utilize the Chinese Remainder Theorem performs the slowest out of all algorithms.\n",
    "\n",
    "As predicted, the GMP implementation which uses the Chinese Remainder Theorem performs the best out of all algorithms. \n",
    "\n",
    "As expected, the three implementations which use CRT are all significantly faster than those which do not.\n",
    "\n",
    "However, we also notice that GMP which does not use CRT starts out comparable to the CRT algorithms, but has a sinificant increase in running time with a key size greater than 2048 bits, making it significantly slower than the CRT algorthms, but still faster than the other non- CRT algorithms. We notice this trend for the other non-CRT algorithms as well, suggesting significant performance degredation past 2048 bits."
   ]
  },
  {
   "cell_type": "markdown",
   "metadata": {},
   "source": [
    "# The Random Fault Attack"
   ]
  },
  {
   "cell_type": "markdown",
   "metadata": {},
   "source": [
    "It was also requested that we implement the random fault attack on the signature of RSA given in the following paper:\n",
    "https://crypto.stanford.edu/~dabo/pubs/papers/RSA-survey.pdf \n",
    "\n",
    "This attack proceeds as follows:\n",
    "\n",
    "Alice asks Bob to sign a message $m$. Normally, Bob signs the message with his private key $sk$. Alice can verify this signature $s$ using the public key $pk$. It is the same as the original message $m$. \n",
    "\n",
    "The random fault attack works on the CRT implementation of RSA decryption. With CRT, RSA signing/decrypting first sends the message $m$ in $Z_n$ to the corresponding element $(u, v)$ in $Z_p x Z_q$. Exponentiation is done in $Z_p x Z_q$ where it is less computationally expensive:\n",
    "\n",
    "$$x= u^d (mod (p-1))$$\n",
    "\n",
    "$$w=v^d (mod (q-1))$$\n",
    "\n",
    "Afterwards, send $(x, w)$ in $Z_p x Z_q$ to the corresponding element in $Z_n$. This can be done using the Extended Euclidean Algorithm, where we find $r$ and $t$, the inverses of $p$ in $Z_q$, and $q$ in $Z_p$, respectively, so that:\n",
    "\n",
    "$$rpx + tqw = w (mod p) = x (mod q)$$\n",
    "\n",
    "is the corresponding element in $Z_n$. This is the signature $s = m ^ d (mod n)$.\n",
    "\n",
    "Note that $spx = 0 (mod p)$ and $tqw = 0 (mod q)$. The random fault attack can be mounted if exactly one of $w$ or $x$ can be corrupted.\n",
    "\n",
    "Suppose exactly one of $x$ or $w$ has bit errors, say $x$ becomes $x'$. Then Alice doesn't get the original message $m$ when she verifies the signature. Instead of $s^e (mod n) = m$, Alice gets: \n",
    "\n",
    "$$m' = (rpx' + tqw)^e (mod n)= (rpx')^e + (tpq)^e (mod n)$$\n",
    "\n",
    "The difference between this and $m = s^d = (rpx) ^ e + (tpq) ^ e (mod n)$ is $(rpx') ^ e - (rpx)^e (mod n)$. This difference is equivalent to $0 (mod p)$, and just as important, this difference is nonzero. That is, $m - verify(s', pk) = 0 (mod p)$ and is nonzero. Thus, computing $gcd(n, m - verify(s', pk))$ reveals one of the factors of n. When we introduce even a single bit error in $x$ or $w$, we don't get the original message $m$ when we verify the corrupted signature.\n",
    "\n",
    "In our implementation, the CRT_rsa_sign function has a 'feature' that lets us introduce a bit error at a random position in either $x$ or $w$. Alice won't get the original message back when she verifies $s$'. The difference between this corrupted message and the original message is equivalent to 0 modulo one of the prime factors of $n$. Alice can recover the factorization by computing the gcd. This factorization should be equal to one of the prime factors of n.\n",
    "\n",
    "To demonstrate this, we present the following code. We use 1024 bits here for ease of computation."
   ]
  },
  {
   "cell_type": "code",
   "execution_count": 16,
   "metadata": {},
   "outputs": [
    {
     "name": "stdout",
     "output_type": "stream",
     "text": [
      "RSA scheme using bit_pow_mod_n and rec_inverse algorithms\n",
      "\n",
      "\n",
      "-------------------------------------------------------------\n",
      "\n",
      "The random fault attack:\n",
      "\n",
      " Message to be signed:\n",
      "\n",
      "\t Please attach your signature.\n",
      "\n",
      " Signature creation successful!\n",
      "\n",
      " Created corrupted signature \n",
      "\n",
      "Are m and m' the same? \t False\n",
      "Is recovered_factor=p?\t False\n",
      "Is recovered_factor=q?\t True\n"
     ]
    }
   ],
   "source": [
    "scheme = RSA(powmodn=bit_pow_mod_n, sign=True)\n",
    "\n",
    "bit_length = 1024\n",
    "e = 65537\n",
    "\n",
    "print(\"\\n\\n-------------------------------------------------------------\")\n",
    "print(\"\\nThe random fault attack:\")\n",
    "\n",
    "(p, q, n, l, e, d, public_key, private_key) = scheme.generate_keys(bit_length, e)\n",
    "\n",
    "message = \"Please attach your signature.\"\n",
    "print(\"\\n Message to be signed:\\n\\n\\t\", message)\n",
    "m = string2int(message)\n",
    "\n",
    "s = scheme.rsa_sign(m, private_key, p, q)\n",
    "print(\"\\n Signature creation successful!\")\n",
    "\n",
    "s1 = scheme.rsa_sign(m, private_key, p, q, faulty=True)  # random bit flip\n",
    "\n",
    "print(\"\\n Created corrupted signature \\n\")\n",
    "\n",
    "m1 = scheme.rsa_verify(s1, public_key)\n",
    "\n",
    "print(\"Are m and m' the same? \\t\", m1==m)\n",
    "\n",
    "recovered_factor = gcd(n, m - m1)\n",
    "\n",
    "print(\"Is recovered_factor=p?\\t\", recovered_factor==p)\n",
    "print(\"Is recovered_factor=q?\\t\", recovered_factor==q)"
   ]
  },
  {
   "cell_type": "markdown",
   "metadata": {},
   "source": [
    "We note here that $gcd(n, m - m')=p$, verifying the correctness of our fault attack implementation."
   ]
  },
  {
   "cell_type": "markdown",
   "metadata": {},
   "source": [
    "# The Timing Attack"
   ]
  },
  {
   "cell_type": "markdown",
   "metadata": {},
   "source": [
    "Finally, it was also requested that we implement the timing attack on RSA given in the following paper:\n",
    "https://crypto.stanford.edu/~dabo/pubs/papers/RSA-survey.pdf\n",
    "\n",
    "This attack proceeds as follows:\n",
    "\n",
    "Consider a physical data storage device (smartcard, USB device) that stores a private RSA key. It is protected against tampering, so an adversary Marvin cannot simply examine its contents to discover the key. However, the timing attack that we examine can recover the private decryption exponent $d$ by measuring the amount of time it takes the device to perform an RSA decryption.\n",
    "\n",
    "To demonstrate this attack, we will perform it on the following algorithm:\n",
    "\n",
    "Let $z=M$ and $C=1.$ Then for each i from 0 to n, we perform:\n",
    "\n",
    "1. If $d_i=1$, then $C=C*z (mod N)$\n",
    "2. $z=z^2 (mod N)$\n",
    "\n",
    "By generating a large number of random messages $M_1, ..., M_k$ in $Z_n$, an adversary Marvin can measure the time $T_i$ it takes to perform decryption and sequentially discover bits of the private exponent $d$. \n",
    "\n",
    "Let $t_i$ be the time it takes to compute step 1 of the above. When $d$ is odd (i.e. $d_0=1$), ${T_i}$ and ${t_i}$ are correlated. When $d$ is even, (i.e. $d_0=0$), ${T_i}$ and ${t_i}$ behave as independent random variables. By measuring the correlation, it is possible for Marvin to discover the private exponent d.\n",
    "\n",
    "In our implentation, we measure $T_i$ and $t_i$ from i=0 to n as described above, then measure the Pearson correlation. If it is above a certain threshold that we define based on our system's timing and hardware, we guess $d_i=1$. Otherwise, $d_i=0$. We present the attack simulation results:"
   ]
  },
  {
   "cell_type": "code",
   "execution_count": 17,
   "metadata": {},
   "outputs": [
    {
     "name": "stdout",
     "output_type": "stream",
     "text": [
      "RSA scheme using bit_pow_mod_n and rec_inverse algorithms\n",
      "d: 0b11000110110000010010100101001\n",
      "g: 0b00000000000000000000000000000\n",
      "0.5862068965517242\n"
     ]
    },
    {
     "name": "stderr",
     "output_type": "stream",
     "text": [
      "C:\\ProgramData\\Anaconda3\\lib\\site-packages\\scipy\\stats\\stats.py:3038: RuntimeWarning: invalid value encountered in double_scalars\n",
      "  r = r_num / r_den\n"
     ]
    },
    {
     "name": "stdout",
     "output_type": "stream",
     "text": [
      "d: 0b11000110110000010010100101001\n",
      "g: 0b00000000000000000000000000000\n",
      "0.5862068965517242\n",
      "d: 0b11000110110000010010100101001\n",
      "g: 0b00000000000000000000000000000\n",
      "0.5862068965517242\n",
      "d: 0b11000110110000010010100101001\n",
      "g: 0b00000000000000000000000000000\n",
      "0.5862068965517242\n",
      "d: 0b11000110110000010010100101001\n",
      "g: 0b00000000000000000000000000000\n",
      "0.5862068965517242\n",
      "d: 0b11000110110000010010100101001\n",
      "g: 0b00000000000000000000000000000\n",
      "0.5862068965517242\n",
      "d: 0b11000110110000010010100101001\n",
      "g: 0b00000000000000000000000000000\n",
      "0.5862068965517242\n",
      "d: 0b11000110110000010010100101001\n",
      "g: 0b00000000000000000000000000000\n",
      "0.5862068965517242\n",
      "d: 0b11000110110000010010100101001\n",
      "g: 0b00000000000000000000000000000\n",
      "0.5862068965517242\n",
      "d: 0b11000110110000010010100101001\n",
      "g: 0b00000000000000000000000000000\n",
      "0.5862068965517242\n",
      "Average bitwise accuracy: 0.59\n"
     ]
    }
   ],
   "source": [
    "# utility fx for measuring tis\n",
    "def get_ti(M, n, d):\n",
    "    t = time.time()\n",
    "\n",
    "    if d:\n",
    "        M *= M**2 % n\n",
    "\n",
    "    return M, time.time()-t\n",
    "\n",
    "# creating RSA scheme and generating keys, exponents\n",
    "bits = 16            # bitsize for key generation\n",
    "scheme = RSA(powmodn=bit_pow_mod_n, sign=True)\n",
    "p, q, n, l, e, d, public_key, private_key = scheme.generate_keys(bit_length=bits)\n",
    "\n",
    "simulations = 10     # determines the number of full decryption exp guesses\n",
    "runs = 1000          # determines the test rate of Ti, ti against Mi\n",
    "n_m = d.bit_length() # number of messages\n",
    "max_m = 2**1024      # maximum message size\n",
    "threshold = .05      # statistical significance threshold\n",
    "final = []\n",
    "\n",
    "for sim in range(simulations):\n",
    "    Tis = []\n",
    "    tis = []\n",
    "\n",
    "    # creating messages\n",
    "    messages = [randrange(max_m) for x in range(n_m)]\n",
    "\n",
    "    for run in range(runs):\n",
    "        tis_t = []\n",
    "        Tis_t = []\n",
    "\n",
    "        # getting Tis and tis for current run\n",
    "        for m in messages:\n",
    "            _, t = rt3(scheme.powmodn, m, d, n)\n",
    "            Tis_t.append(t)\n",
    "\n",
    "            _, t = get_ti(n, n, 1)\n",
    "            tis_t.append(t)\n",
    "\n",
    "        # appending run's Tis/tis to parent list\n",
    "        Tis.append(Tis_t)\n",
    "        tis.append(tis_t)\n",
    "\n",
    "    # printing d and formatting for guessing g, done below\n",
    "    print('d: {}\\n'.format(bin(d)), end='')\n",
    "    print('g: 0b', end='')\n",
    "\n",
    "    b = []\n",
    "    for i in range(n_m):\n",
    "\n",
    "        # get a list of ti, tis comprising of all runs for m_i\n",
    "        list_ti = []\n",
    "        list_Ti = []\n",
    "        for li in tis:\n",
    "            list_ti.append(li[i])\n",
    "\n",
    "        for li in Tis:\n",
    "            list_Ti.append(li[i])\n",
    "\n",
    "        # correlation between tis, Tis for m_i for n_runs\n",
    "        std, _ = pearsonr(list_Ti, list_ti)        \n",
    "        # default guess is 0, 1 if std above threshold\n",
    "        g = 0\n",
    "        if abs(std) > threshold:\n",
    "            g = 1\n",
    "\n",
    "        print(g, end='')\n",
    "        b.append(g)\n",
    "\n",
    "    print('')\n",
    "\n",
    "    # pairwise intersection testing for each bit of d, g\n",
    "    res = []\n",
    "    for act, guess in zip(bin(d)[2:], b):\n",
    "        res.append(int(act)==guess)\n",
    "\n",
    "    # calculating accuracy\n",
    "    result = 0\n",
    "    n = len(res)\n",
    "    for eval in res:\n",
    "        if eval:\n",
    "            result += eval/n\n",
    "    print(result)\n",
    "\n",
    "    final.append(result)\n",
    "\n",
    "print(\"Average bitwise accuracy: {:.2f}\".format(sum(final) / simulations))"
   ]
  },
  {
   "cell_type": "markdown",
   "metadata": {},
   "source": [
    "# APPENDIX"
   ]
  },
  {
   "cell_type": "markdown",
   "metadata": {},
   "source": [
    "## APPENDIX A- Python"
   ]
  },
  {
   "cell_type": "markdown",
   "metadata": {},
   "source": [
    "Python is notably poor suited for the execution of recursive algorithms. Each function call, regardless of its composition, allocates a stack frame in Python. When recursing, this large number of nested stack frames dramatically increases execution. One solution for a large stack trace is to optimize for tail recursion."
   ]
  },
  {
   "cell_type": "code",
   "execution_count": 18,
   "metadata": {},
   "outputs": [
    {
     "name": "stderr",
     "output_type": "stream",
     "text": [
      "'tail' is not recognized as an internal or external command,\n",
      "operable program or batch file.\n"
     ]
    }
   ],
   "source": [
    "! tail -12 tail_optimized.py"
   ]
  },
  {
   "cell_type": "markdown",
   "metadata": {},
   "source": [
    "The above function definitions describe two functions, one of which performs recursion. The recursive function's return statement has been carefully extracted from its logic such that the call stands alone, at the tail of the recursive function. This is tail recursion. In many languages the compiler will note this tail recursion and perform tail recursion elimination. This effectively removes stack frames from the stack for each recursive call. Instead of performing a CALL/RETURN within the stack, only a JUMP is needed. \n",
    "\n",
    "Unfortunately, Python does not support tail recursion elimination explicitly."
   ]
  },
  {
   "cell_type": "code",
   "execution_count": 19,
   "metadata": {},
   "outputs": [
    {
     "name": "stderr",
     "output_type": "stream",
     "text": [
      "'cat' is not recognized as an internal or external command,\n",
      "operable program or batch file.\n"
     ]
    }
   ],
   "source": [
    "! cat tailcaller.py"
   ]
  },
  {
   "cell_type": "markdown",
   "metadata": {},
   "source": [
    "The above classes are used to emulate tail recursion elimination. By using the decorator \"@TailCaller\" on a tail optimized recursive function, we may perform tail recursion elimination within Python. Decorators are wrappers for functions which modify their behavior."
   ]
  },
  {
   "cell_type": "markdown",
   "metadata": {},
   "source": [
    "## Appendix B- Kocher's Timing Attack"
   ]
  },
  {
   "cell_type": "markdown",
   "metadata": {},
   "source": []
  },
  {
   "cell_type": "markdown",
   "metadata": {},
   "source": [
    "## Appendix C- Works Cited"
   ]
  },
  {
   "cell_type": "markdown",
   "metadata": {},
   "source": [
    "D. Boneh (dabo@cs.stanford.edu). Twenty Years of Attacks on the RSA Cryptosystem. Notices of the American Mathematical Society (AMS), Vol. 46, No. 2, pp. 203-213, 1999\n",
    "\n",
    "P. Kocher. Timing attacks on implementations of Die-Hellman, RSA, DSS, and other systems. In CRYPTO '96, volume 1109 of Lecture Notes in Computer Science, pages 104-113.Springer-Verlag, 1996.\n",
    "\n",
    "GNU Multiple Precision Arithmetic Library: https://gmplib.org\n",
    "\n",
    "General Multiprecision Python Project(gmpy2):  https://github.com/aleaxit/gmpy and https://pypi.org/project/gmpy2/ \n",
    "\n",
    "Python Cryptography Toolkit (PyCrypto): https://pypi.org/project/pycrypto/ and https://www.dlitz.net/software/pycrypto/api/current/ \n",
    "\n",
    "Karatsuba integer multiplication is O(n1.58). M. Cardei, COT 6405 Class Notes, Boca Raton, FL, 2019.\n",
    "\n",
    "Project Nayuki, \"Karatsuba multiplication,\" Project Nayuki, 14 June 2016. [Online]. Available: https://www.nayuki.io/page/karatsuba-multiplication.\n"
   ]
  }
 ],
 "metadata": {
  "kernelspec": {
   "display_name": "Python 3",
   "language": "python",
   "name": "python3"
  },
  "language_info": {
   "codemirror_mode": {
    "name": "ipython",
    "version": 3
   },
   "file_extension": ".py",
   "mimetype": "text/x-python",
   "name": "python",
   "nbconvert_exporter": "python",
   "pygments_lexer": "ipython3",
   "version": "3.7.3"
  }
 },
 "nbformat": 4,
 "nbformat_minor": 2
}
