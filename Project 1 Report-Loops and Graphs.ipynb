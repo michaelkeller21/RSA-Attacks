{
 "cells": [
  {
   "cell_type": "markdown",
   "metadata": {},
   "source": [
    "Team HKV: Michael Keller, Henry Herzfeld, Yuri Villanueva"
   ]
  },
  {
   "cell_type": "markdown",
   "metadata": {},
   "source": [
    "In this report, we attempt to implement RSA in Python. While the C library NTL is preferred by many for large number operations, we chose to invesigate whether Python can achieve the same or better performance than NTL using existing libraries or packages in conjunction with those that we create. Our results will be detailed in this document, in the hopes that they can be compared with those of other groups in order to make this determination."
   ]
  },
  {
   "cell_type": "markdown",
   "metadata": {},
   "source": [
    "# Naive RSA Decryption vs CRT Decryption"
   ]
  },
  {
   "cell_type": "markdown",
   "metadata": {},
   "source": [
    "First, we were asked to investigate the difference in performance between a naive RSA implementation and an RSA implementation that uses the Chinese Remainder Theorem. "
   ]
  },
  {
   "cell_type": "markdown",
   "metadata": {},
   "source": [
    "First, we must perform key generation. We will create key sizes that are powers of 2 up to 8192 bits for comparison."
   ]
  },
  {
   "cell_type": "code",
   "execution_count": 1,
   "metadata": {},
   "outputs": [],
   "source": [
    "from RSA import RSA\n",
    "from powmodn import rec_pow_mod_n, bit_pow_mod_n\n",
    "from util import lcm, int2string, string2int\n",
    "from math import gcd\n",
    "from Crypto.Util import number\n",
    "from rt import rt2, rt4, rt_average_2, rt_average_4\n",
    "from inverse import rec_inverse\n",
    "import pandas as pd\n",
    "import sys"
   ]
  },
  {
   "cell_type": "code",
   "execution_count": 2,
   "metadata": {},
   "outputs": [
    {
     "name": "stdout",
     "output_type": "stream",
     "text": [
      "RSA scheme using bit_pow_mod_n and rec_inverse algorithms\n",
      "RSA scheme using rec_pow_mod_n and rec_inverse algorithms\n"
     ]
    }
   ],
   "source": [
    "schemes=[]\n",
    "\n",
    "scheme1 = RSA(powmodn=bit_pow_mod_n)\n",
    "scheme2= RSA(powmodn=rec_pow_mod_n)\n",
    "schemes.append(scheme1)\n",
    "schemes.append(scheme2)\n",
    "\n",
    "keys=[]\n",
    "\n",
    "for scheme in schemes:\n",
    "    for i in range (7, 13):\n",
    "        key=(p, q, n, l, e, d, public_key, private_key)=scheme.generate_keys(bit_length=2**i)\n",
    "        list(key)\n",
    "        keys.append(key)"
   ]
  },
  {
   "cell_type": "markdown",
   "metadata": {},
   "source": [
    "Next, we perform encryption with each bit size:"
   ]
  },
  {
   "cell_type": "code",
   "execution_count": 3,
   "metadata": {},
   "outputs": [
    {
     "name": "stdout",
     "output_type": "stream",
     "text": [
      "\n",
      "Original plaintext message:  The quick brown fox jumps over the lazy dog.\n"
     ]
    }
   ],
   "source": [
    "message=\"The quick brown fox jumps over the lazy dog.\"\n",
    "print(\"\\nOriginal plaintext message: \", message)\n",
    "\n",
    "m = string2int(message)\n",
    "\n",
    "ciphertexts=[]\n",
    "\n",
    "for i in range(0, (len(keys))//2):\n",
    "    c=scheme1.rsa_encrypt(m, key[6])\n",
    "    ciphertext=int2string(c)\n",
    "    ciphertexts.append(c)\n",
    "for i in range((len(keys))//2, len(keys)):\n",
    "    c=scheme2.rsa_encrypt(m, key[6])\n",
    "    ciphertext=int2string(c)\n",
    "    ciphertexts.append(c)"
   ]
  },
  {
   "cell_type": "markdown",
   "metadata": {},
   "source": [
    "Now we run the two decryption algorithms with the three different bit sizes and compare their running times:"
   ]
  },
  {
   "cell_type": "code",
   "execution_count": 8,
   "metadata": {},
   "outputs": [
    {
     "data": {
      "text/html": [
       "<div>\n",
       "<style scoped>\n",
       "    .dataframe tbody tr th:only-of-type {\n",
       "        vertical-align: middle;\n",
       "    }\n",
       "\n",
       "    .dataframe tbody tr th {\n",
       "        vertical-align: top;\n",
       "    }\n",
       "\n",
       "    .dataframe thead th {\n",
       "        text-align: right;\n",
       "    }\n",
       "</style>\n",
       "<table border=\"1\" class=\"dataframe\">\n",
       "  <thead>\n",
       "    <tr style=\"text-align: right;\">\n",
       "      <th></th>\n",
       "      <th>Key Size</th>\n",
       "      <th>Bitwise No CRT</th>\n",
       "      <th>Bitwise CRT</th>\n",
       "      <th>Recursive No CRT</th>\n",
       "      <th>Recursive CRT</th>\n",
       "    </tr>\n",
       "  </thead>\n",
       "  <tbody>\n",
       "    <tr>\n",
       "      <th>0</th>\n",
       "      <td>128</td>\n",
       "      <td>0.000299</td>\n",
       "      <td>0.000199</td>\n",
       "      <td>0.001396</td>\n",
       "      <td>0.000299</td>\n",
       "    </tr>\n",
       "    <tr>\n",
       "      <th>1</th>\n",
       "      <td>256</td>\n",
       "      <td>0.000800</td>\n",
       "      <td>0.000601</td>\n",
       "      <td>0.003852</td>\n",
       "      <td>0.000798</td>\n",
       "    </tr>\n",
       "    <tr>\n",
       "      <th>2</th>\n",
       "      <td>512</td>\n",
       "      <td>0.004690</td>\n",
       "      <td>0.001895</td>\n",
       "      <td>0.014860</td>\n",
       "      <td>0.002596</td>\n",
       "    </tr>\n",
       "    <tr>\n",
       "      <th>3</th>\n",
       "      <td>1024</td>\n",
       "      <td>0.028424</td>\n",
       "      <td>0.009475</td>\n",
       "      <td>0.059137</td>\n",
       "      <td>0.010971</td>\n",
       "    </tr>\n",
       "  </tbody>\n",
       "</table>\n",
       "</div>"
      ],
      "text/plain": [
       "   Key Size  Bitwise No CRT  Bitwise CRT  Recursive No CRT  Recursive CRT\n",
       "0       128        0.000299     0.000199          0.001396       0.000299\n",
       "1       256        0.000800     0.000601          0.003852       0.000798\n",
       "2       512        0.004690     0.001895          0.014860       0.002596\n",
       "3      1024        0.028424     0.009475          0.059137       0.010971"
      ]
     },
     "execution_count": 8,
     "metadata": {},
     "output_type": "execute_result"
    }
   ],
   "source": [
    "bit_lengths=[]\n",
    "reg_running_times_bit=[]\n",
    "CRT_running_times_bit=[]\n",
    "reg_running_times_rec=[]\n",
    "CRT_running_times_rec=[]\n",
    "\n",
    "sys.setrecursionlimit(3925)\n",
    "\n",
    "for i in range(0, (len(keys))//2):\n",
    "    m2=scheme1.rsa_decrypt(ciphertexts[i], keys[i][7])\n",
    "    running_time_avg = rt_average_2(scheme1.rsa_decrypt, ciphertexts[i], keys[i][7], 10)\n",
    "    message2 = int2string(m2)\n",
    "    reg_running_times_bit.append(running_time_avg)\n",
    "    \n",
    "    m3 = scheme1.CRT_rsa_decrypt(ciphertexts[i], keys[i][7], keys[i][0], keys[i][1])\n",
    "    CRT_running_time_avg = rt_average_4(scheme1.CRT_rsa_decrypt, ciphertexts[i], keys[i][7], keys[i][0], keys[i][1], 10)\n",
    "    message3 = int2string(m3)  \n",
    "    CRT_running_times_bit.append(CRT_running_time_avg)    \n",
    "    \n",
    "    bit_lengths.append(2**(7+i))\n",
    "    \n",
    "for i in range((len(keys))//2, len(keys)-2): \n",
    "    m2=scheme2.rsa_decrypt(ciphertexts[i], keys[i][7])\n",
    "    running_time_avg = rt_average_2(scheme2.rsa_decrypt, ciphertexts[i], keys[i][7], 10)\n",
    "    message2 = int2string(m2)\n",
    "    reg_running_times_rec.append(running_time_avg)\n",
    "    \n",
    "    m3 = scheme2.CRT_rsa_decrypt(ciphertexts[i], keys[i][7], keys[i][0], keys[i][1])\n",
    "    CRT_running_time_avg = rt_average_4(scheme2.CRT_rsa_decrypt, ciphertexts[i], keys[i][7], keys[i][0], keys[i][1], 10)\n",
    "    message3 = int2string(m3)  \n",
    "    CRT_running_times_rec.append(CRT_running_time_avg)    \n",
    "    \n",
    "rt_table_4=pd.DataFrame(list(zip(bit_lengths, reg_running_times_bit, CRT_running_times_bit, reg_running_times_rec, CRT_running_times_rec)), columns=['Key Size','Bitwise No CRT', 'Bitwise CRT', 'Recursive No CRT', 'Recursive CRT'])\n",
    "rt_table_4"
   ]
  },
  {
   "cell_type": "code",
   "execution_count": 9,
   "metadata": {},
   "outputs": [
    {
     "data": {
      "text/plain": [
       "<matplotlib.axes._subplots.AxesSubplot at 0x270b83af978>"
      ]
     },
     "execution_count": 9,
     "metadata": {},
     "output_type": "execute_result"
    },
    {
     "data": {
      "image/png": "[encoded data removed]",
      "text/plain": [
       "<Figure size 432x288 with 1 Axes>"
      ]
     },
     "metadata": {
      "needs_background": "light"
     },
     "output_type": "display_data"
    }
   ],
   "source": [
    "ax_4=rt_table_4.plot(x='Key Size', y=['Bitwise No CRT', 'Bitwise CRT', 'Recursive No CRT', 'Recursive CRT'], kind='line')\n",
    "ax_4.set_ylabel(\"Running Time (sec)\")\n",
    "ax_4"
   ]
  },
  {
   "cell_type": "code",
   "execution_count": 12,
   "metadata": {},
   "outputs": [
    {
     "data": {
      "text/html": [
       "<div>\n",
       "<style scoped>\n",
       "    .dataframe tbody tr th:only-of-type {\n",
       "        vertical-align: middle;\n",
       "    }\n",
       "\n",
       "    .dataframe tbody tr th {\n",
       "        vertical-align: top;\n",
       "    }\n",
       "\n",
       "    .dataframe thead th {\n",
       "        text-align: right;\n",
       "    }\n",
       "</style>\n",
       "<table border=\"1\" class=\"dataframe\">\n",
       "  <thead>\n",
       "    <tr style=\"text-align: right;\">\n",
       "      <th></th>\n",
       "      <th>Key Size</th>\n",
       "      <th>Bitwise No CRT</th>\n",
       "      <th>Bitwise CRT</th>\n",
       "    </tr>\n",
       "  </thead>\n",
       "  <tbody>\n",
       "    <tr>\n",
       "      <th>0</th>\n",
       "      <td>128</td>\n",
       "      <td>0.000299</td>\n",
       "      <td>0.000199</td>\n",
       "    </tr>\n",
       "    <tr>\n",
       "      <th>1</th>\n",
       "      <td>256</td>\n",
       "      <td>0.000800</td>\n",
       "      <td>0.000601</td>\n",
       "    </tr>\n",
       "    <tr>\n",
       "      <th>2</th>\n",
       "      <td>512</td>\n",
       "      <td>0.004690</td>\n",
       "      <td>0.001895</td>\n",
       "    </tr>\n",
       "    <tr>\n",
       "      <th>3</th>\n",
       "      <td>1024</td>\n",
       "      <td>0.028424</td>\n",
       "      <td>0.009475</td>\n",
       "    </tr>\n",
       "    <tr>\n",
       "      <th>4</th>\n",
       "      <td>2048</td>\n",
       "      <td>0.195408</td>\n",
       "      <td>0.057594</td>\n",
       "    </tr>\n",
       "    <tr>\n",
       "      <th>5</th>\n",
       "      <td>4096</td>\n",
       "      <td>1.356546</td>\n",
       "      <td>0.390583</td>\n",
       "    </tr>\n",
       "  </tbody>\n",
       "</table>\n",
       "</div>"
      ],
      "text/plain": [
       "   Key Size  Bitwise No CRT  Bitwise CRT\n",
       "0       128        0.000299     0.000199\n",
       "1       256        0.000800     0.000601\n",
       "2       512        0.004690     0.001895\n",
       "3      1024        0.028424     0.009475\n",
       "4      2048        0.195408     0.057594\n",
       "5      4096        1.356546     0.390583"
      ]
     },
     "execution_count": 12,
     "metadata": {},
     "output_type": "execute_result"
    }
   ],
   "source": [
    "rt_table_2=pd.DataFrame(list(zip(bit_lengths, reg_running_times_bit, CRT_running_times_bit)), columns=['Key Size','Bitwise No CRT', 'Bitwise CRT'])\n",
    "rt_table_2"
   ]
  },
  {
   "cell_type": "code",
   "execution_count": 14,
   "metadata": {},
   "outputs": [
    {
     "data": {
      "text/plain": [
       "<matplotlib.axes._subplots.AxesSubplot at 0x270b8984080>"
      ]
     },
     "execution_count": 14,
     "metadata": {},
     "output_type": "execute_result"
    },
    {
     "data": {
      "image/png": "[encoded data removed]",
      "text/plain": [
       "<Figure size 432x288 with 1 Axes>"
      ]
     },
     "metadata": {
      "needs_background": "light"
     },
     "output_type": "display_data"
    }
   ],
   "source": [
    "ax_2=rt_table_2.plot(x='Key Size', y=['Bitwise No CRT', 'Bitwise CRT'], kind='line')\n",
    "ax_2.set_ylabel(\"Running Time (sec)\")\n",
    "ax_2"
   ]
  },
  {
   "cell_type": "markdown",
   "metadata": {},
   "source": [
    "## The Random Fault Attack"
   ]
  },
  {
   "cell_type": "markdown",
   "metadata": {},
   "source": [
    "It was also requested that we implement the random fault attack on the signature of RSA given in the following paper:\n",
    "https://crypto.stanford.edu/~dabo/pubs/papers/RSA-survey.pdf \n",
    "\n",
    "This attack proceeds as follows:\n",
    "\n",
    "Alice asks Bob to sign a message $m$. Normally, Bob signs the message with his private key $sk$. Alice can verify this signature $s$ using the public key $pk$. It is the same as the original message $m$. \n",
    "\n",
    "The random fault attack works on the CRT implementation of RSA decryption. With CRT, RSA signing/decrypting first sends the message $m$ in $Z_n$ to the corresponding element $(u, v)$ in $Z_p x Z_q$. Exponentiation is done in $Z_p x Z_q$ where it is less computationally expensive:\n",
    "\n",
    "$$x= u^d (mod (p-1))$$\n",
    "\n",
    "$$w=v^d (mod (q-1))$$\n",
    "\n",
    "Afterwards, send $(x, w)$ in $Z_p x Z_q$ to the corresponding element in $Z_n$. This can be done using the Extended Euclidean Algorithm, where we find $r$ and $t$, the inverses of $p$ in $Z_q$, and $q$ in $Z_p$, respectively, so that:\n",
    "\n",
    "$$rpx + tqw = w (mod p) = x (mod q)$$\n",
    "\n",
    "is the corresponding element in $Z_n$. This is the signature $s = m ^ d (mod n)$.\n",
    "\n",
    "Note that $spx = 0 (mod p)$ and $tqw = 0 (mod q)$. The random fault attack can be mounted if exactly one of $w$ or $x$ can be corrupted.\n",
    "\n",
    "Suppose exactly one of $x$ or $w$ has bit errors, say $x$ becomes $x'$. Then Alice doesn't get the original message $m$ when she verifies the signature. Instead of $s^e (mod n) = m$, Alice gets: \n",
    "\n",
    "$$m' = (rpx' + tqw)^e (mod n)= (rpx')^e + (tpq)^e (mod n)$$\n",
    "\n",
    "The difference between this and $m = s^d = (rpx) ^ e + (tpq) ^ e (mod n)$ is $(rpx') ^ e - (rpx)^e (mod n)$. This difference is equivalent to $0 (mod p)$, and just as important, this difference is nonzero. That is, $m - verify(s', public_key) = 0 (mod p)$ and is nonzero. Thus, computing $gcd(n, m - verify(s' public_key))$ reveals one of the factors of n. When we introduce even a single bit error in $x$ or $w$, we don't get the original message $m$ when we verify the corrupted signature.\n",
    "\n",
    "In our implementation, the CRT_rsa_sign function has a 'feature' that lets us introduce a bit error at a random position in either $x$ or $w$. Alice won't get the original message back when she verifies $s$'. The difference between this corrupted message and the original message is equivalent to 0 modulo one of the prime factors of $n$. Alice can recover the factorization by computing the gcd. This factorization should be equal to one of the prime factors of n.\n",
    "\n",
    "To demonstrate this, we present the following code. We use 1024 bits here for ease of computation."
   ]
  },
  {
   "cell_type": "code",
   "execution_count": null,
   "metadata": {},
   "outputs": [],
   "source": [
    "scheme = RSA(powmodn=bit_pow_mod_n, sign=True)\n",
    "\n",
    "bit_length = 1024\n",
    "e = 65537\n",
    "\n",
    "print(\"\\n\\n-------------------------------------------------------------\")\n",
    "print(\"\\nThe random fault attack:\")\n",
    "print(\"Generating\", bit_length, \"-bit keys...\")\n",
    "\n",
    "(p, q, n, l, e, d, public_key, private_key) = scheme.generate_keys(bit_length, e)\n",
    "\n",
    "message = \"Please attach your signature.\"\n",
    "print(\"\\n Message to be signed:\\n\\n\\t\", message)\n",
    "m = string2int(message)\n",
    "\n",
    "s = scheme.rsa_sign(m, private_key, p, q)\n",
    "print(\"\\n Signature creation successful!\")\n",
    "\n",
    "s1 = scheme.rsa_sign(m, private_key, p, q, faulty=True)  # random bit flip\n",
    "\n",
    "print(\"\\n Created corrupted signature \\n\")\n",
    "\n",
    "m1 = scheme.rsa_verify(s1, public_key)\n",
    "\n",
    "print(\"Are m and m' the same? \\t\", m1==m)\n",
    "\n",
    "recovered_factor = gcd(n, m - m1)\n",
    "\n",
    "print(\"Is recovered_factor=p?\\t\", recovered_factor==p)\n",
    "print(\"Is recovered_factor=q?\\t\", recovered_factor==q)"
   ]
  },
  {
   "cell_type": "markdown",
   "metadata": {},
   "source": [
    "We note here that $gcd(n, m - m')=p$, verifying the correctness of our fault attack implementation."
   ]
  },
  {
   "cell_type": "markdown",
   "metadata": {},
   "source": [
    "## The Timing Attack"
   ]
  },
  {
   "cell_type": "code",
   "execution_count": null,
   "metadata": {},
   "outputs": [],
   "source": [
    "##To be implemented"
   ]
  }
 ],
 "metadata": {
  "kernelspec": {
   "display_name": "Python 3",
   "language": "python",
   "name": "python3"
  },
  "language_info": {
   "codemirror_mode": {
    "name": "ipython",
    "version": 3
   },
   "file_extension": ".py",
   "mimetype": "text/x-python",
   "name": "python",
   "nbconvert_exporter": "python",
   "pygments_lexer": "ipython3",
   "version": "3.7.3"
  }
 },
 "nbformat": 4,
 "nbformat_minor": 2
}
