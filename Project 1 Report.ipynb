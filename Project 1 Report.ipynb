{
 "cells": [
  {
   "cell_type": "markdown",
   "metadata": {},
   "source": [
    "Team HKV: Michael Keller, Henry Herzfeld, Yuri Villanueva"
   ]
  },
  {
   "cell_type": "markdown",
   "metadata": {},
   "source": [
    "In this report, we attempt to implement RSA in Python. While the C library NTL is preferred by many for large number operations, we chose to invesigate whether Python can achieve the same or better performance than NTL using existing libraries or packages in conjunction with those that we create. Our results will be detailed in this document, in the hopes that they can be compared with those of other groups in order to make this determination."
   ]
  },
  {
   "cell_type": "markdown",
   "metadata": {},
   "source": [
    "# Naive RSA Decryption vs CRT Decryption"
   ]
  },
  {
   "cell_type": "markdown",
   "metadata": {},
   "source": [
    "First, we were asked to investigate the difference in performance between a naive RSA implementation and an RSA implementation that uses the Chinese Remainder Theorem. "
   ]
  },
  {
   "cell_type": "markdown",
   "metadata": {},
   "source": [
    "First, we must perform key generation. We will create key sizes that are powers of 2 up to 8192 bits for comparison."
   ]
  },
  {
   "cell_type": "code",
   "execution_count": 1,
   "metadata": {},
   "outputs": [],
   "source": [
    "from RSA import RSA\n",
    "from powmodn import rec_pow_mod_n, bit_pow_mod_n\n",
    "from util import lcm, int2string, string2int\n",
    "from math import gcd\n",
    "from Crypto.Util import number\n",
    "from rt import rt2, rt4, rt_average_2, rt_average_4\n",
    "from inverse import rec_inverse"
   ]
  },
  {
   "cell_type": "code",
   "execution_count": 2,
   "metadata": {},
   "outputs": [
    {
     "name": "stdout",
     "output_type": "stream",
     "text": [
      "RSA scheme using bit_pow_mod_n and rec_inverse algorithms\n"
     ]
    }
   ],
   "source": [
    "scheme = RSA(powmodn=bit_pow_mod_n)\n",
    "\n",
    "(p1, q1, n1, l1, e1, d1, public_key1, private_key1) = scheme.generate_keys(bit_length=1024)\n",
    "(p2, q2, n2, l2, e2, d2, public_key2, private_key2) = scheme.generate_keys(bit_length=2048)\n",
    "(p3, q3, n3, l3, e3, d3, public_key3, private_key3) = scheme.generate_keys(bit_length=4096)"
   ]
  },
  {
   "cell_type": "markdown",
   "metadata": {},
   "source": [
    "Next, we perform encryption with each bit size:"
   ]
  },
  {
   "cell_type": "code",
   "execution_count": 3,
   "metadata": {},
   "outputs": [
    {
     "name": "stdout",
     "output_type": "stream",
     "text": [
      "\n",
      "Original plaintext message:  The quick brown fox jumps over the lazy dog.\n"
     ]
    }
   ],
   "source": [
    "message=\"The quick brown fox jumps over the lazy dog.\"\n",
    "print(\"\\nOriginal plaintext message: \", message)\n",
    "\n",
    "m = string2int(message)\n",
    "\n",
    "c1 = scheme.rsa_encrypt(m, public_key1)\n",
    "ciphertext1 = int2string(c1)\n",
    "\n",
    "c2 = scheme.rsa_encrypt(m, public_key2)\n",
    "ciphertext2 = int2string(c2)\n",
    "\n",
    "c3 = scheme.rsa_encrypt(m, public_key3)\n",
    "ciphertext3 = int2string(c3)"
   ]
  },
  {
   "cell_type": "markdown",
   "metadata": {},
   "source": [
    "Now we run the two decryption algorithms with the three different bit sizes and compare their running times:"
   ]
  },
  {
   "cell_type": "code",
   "execution_count": 6,
   "metadata": {},
   "outputs": [
    {
     "name": "stdout",
     "output_type": "stream",
     "text": [
      "1024 bits: \n",
      "\n",
      " Message decrypted by rsa_decrypt:  b'The quick brown fox jumps over the lazy dog.'\n",
      " Average Running time over 10 runs for rsa_decrypt:  0.028283071517944337\n",
      " Message decrypted by CRT_rsa_decrypt (seconds):  b'The quick brown fox jumps over the lazy dog.'\n",
      " Average Running time for 10 runs of CRT_rsa_decrypt (seconds):  0.009477663040161132\n",
      "2048 bits: \n",
      "\n",
      " Message decrypted by rsa_decrypt:  b'The quick brown fox jumps over the lazy dog.'\n",
      " Average Running time over 10 runs for rsa_decrypt:  0.19391233921051027\n",
      " Message decrypted by CRT_rsa_decrypt (seconds):  b'The quick brown fox jumps over the lazy dog.'\n",
      " Average Running time for 10 runs of CRT_rsa_decrypt (seconds):  0.058762431144714355\n",
      "4096 bits: \n",
      "\n",
      " Message decrypted by rsa_decrypt:  b'The quick brown fox jumps over the lazy dog.'\n",
      " Average Running time over 10 runs for rsa_decrypt:  1.3401647329330444\n",
      " Message decrypted by CRT_rsa_decrypt (seconds):  b'The quick brown fox jumps over the lazy dog.'\n",
      " Average Running time for 10 runs of CRT_rsa_decrypt (seconds):  0.38738231658935546\n"
     ]
    }
   ],
   "source": [
    "print (\"1024 bits: \\n\")\n",
    "\n",
    "m2_1024 = scheme.rsa_decrypt(c1, private_key1)\n",
    "running_time_avg_1024 = rt_average_2(scheme.rsa_decrypt, c1, private_key1, 10)\n",
    "message2_1024 = int2string(m2_1024)\n",
    "print(\" Message decrypted by rsa_decrypt: \", message2_1024)\n",
    "print(\" Average Running time over 10 runs for rsa_decrypt: \", running_time_avg_1024)\n",
    "\n",
    "m3_1024 = scheme.CRT_rsa_decrypt(c1, private_key1, p1, q1)\n",
    "CRT_running_time_avg_1024 = rt_average_4(scheme.CRT_rsa_decrypt, c1, private_key1, p1, q1, 10)\n",
    "message3_1024 = int2string(m3_1024)\n",
    "print(\" Message decrypted by CRT_rsa_decrypt (seconds): \", message3_1024)\n",
    "print(\" Average Running time for 10 runs of CRT_rsa_decrypt (seconds): \", CRT_running_time_avg_1024)\n",
    "\n",
    "print (\"2048 bits: \\n\")\n",
    "\n",
    "m2_2048 = scheme.rsa_decrypt(c2, private_key2)\n",
    "running_time_avg_2048 = rt_average_2(scheme.rsa_decrypt, c2, private_key2, 10)\n",
    "message2_2048 = int2string(m2_2048)\n",
    "print(\" Message decrypted by rsa_decrypt: \", message2_2048)\n",
    "print(\" Average Running time over 10 runs for rsa_decrypt: \", running_time_avg_2048)\n",
    "\n",
    "m3_2048 = scheme.CRT_rsa_decrypt(c2, private_key2, p2, q2)\n",
    "CRT_running_time_avg_2048 = rt_average_4(scheme.CRT_rsa_decrypt, c2, private_key2, p2, q2, 10)\n",
    "message3_2048 = int2string(m3_2048)\n",
    "print(\" Message decrypted by CRT_rsa_decrypt (seconds): \", message3_2048)\n",
    "print(\" Average Running time for 10 runs of CRT_rsa_decrypt (seconds): \", CRT_running_time_avg_2048)\n",
    "\n",
    "print (\"4096 bits: \\n\")\n",
    "\n",
    "m2_4096 = scheme.rsa_decrypt(c3, private_key3)\n",
    "running_time_avg_4096 = rt_average_2(scheme.rsa_decrypt, c3, private_key3, 10)\n",
    "message2_4096 = int2string(m2_4096)\n",
    "print(\" Message decrypted by rsa_decrypt: \", message2_4096)\n",
    "print(\" Average Running time over 10 runs for rsa_decrypt: \", running_time_avg_4096)\n",
    "\n",
    "m3_4096 = scheme.CRT_rsa_decrypt(c3, private_key3, p3, q3)\n",
    "CRT_running_time_avg_4096 = rt_average_4(scheme.CRT_rsa_decrypt, c3, private_key3, p3, q3, 10)\n",
    "message3_4096 = int2string(m3_4096)\n",
    "print(\" Message decrypted by CRT_rsa_decrypt (seconds): \", message3_4096)\n",
    "print(\" Average Running time for 10 runs of CRT_rsa_decrypt (seconds): \", CRT_running_time_avg_4096)"
   ]
  },
  {
   "cell_type": "markdown",
   "metadata": {},
   "source": [
    "## The Random Fault Attack"
   ]
  },
  {
   "cell_type": "markdown",
   "metadata": {},
   "source": [
    "It was also requested that we implement the random fault attack on the signature of RSA given in the following paper:\n",
    "https://crypto.stanford.edu/~dabo/pubs/papers/RSA-survey.pdf \n",
    "\n",
    "This attack proceeds as follows:\n",
    "\n",
    "Alice asks Bob to sign a message $m$. Normally, Bob signs the message with his private key $sk$. Alice can verify this signature $s$ using the public key $pk$. It is the same as the original message $m$. \n",
    "\n",
    "The random fault attack works on the CRT implementation of RSA decryption. With CRT, RSA signing/decrypting first sends the message $m$ in $Z_n$ to the corresponding element $(u, v)$ in $Z_p x Z_q$. Exponentiation is done in $Z_p x Z_q$ where it is less computationally expensive:\n",
    "\n",
    "$$x= u^d (mod (p-1))$$\n",
    "\n",
    "$$w=v^d (mod (q-1))$$\n",
    "\n",
    "Afterwards, send $(x, w)$ in $Z_p x Z_q$ to the corresponding element in $Z_n$. This can be done using the Extended Euclidean Algorithm, where we find $r$ and $t$, the inverses of $p$ in $Z_q$, and $q$ in $Z_p$, respectively, so that:\n",
    "\n",
    "$$rpx + tqw = w (mod p) = x (mod q)$$\n",
    "\n",
    "is the corresponding element in $Z_n$. This is the signature $s = m ^ d (mod n)$.\n",
    "\n",
    "Note that $spx = 0 (mod p)$ and $tqw = 0 (mod q)$. The random fault attack can be mounted if exactly one of $w$ or $x$ can be corrupted.\n",
    "\n",
    "Suppose exactly one of $x$ or $w$ has bit errors, say $x$ becomes $x'$. Then Alice doesn't get the original message $m$ when she verifies the signature. Instead of $s^e (mod n) = m$, Alice gets: \n",
    "\n",
    "$$m' = (rpx' + tqw)^e (mod n)= (rpx')^e + (tpq)^e (mod n)$$\n",
    "\n",
    "The difference between this and $m = s^d = (rpx) ^ e + (tpq) ^ e (mod n)$ is $(rpx') ^ e - (rpx)^e (mod n)$. This difference is equivalent to $0 (mod p)$, and just as important, this difference is nonzero. That is, $m - verify(s', public_key) = 0 (mod p)$ and is nonzero. Thus, computing $gcd(n, m - verify(s' public_key))$ reveals one of the factors of n. When we introduce even a single bit error in $x$ or $w$, we don't get the original message $m$ when we verify the corrupted signature.\n",
    "\n",
    "In our implementation, the CRT_rsa_sign function has a 'feature' that lets us introduce a bit error at a random position in either $x$ or $w$. Alice won't get the original message back when she verifies $s$'. The difference between this corrupted message and the original message is equivalent to 0 modulo one of the prime factors of $n$. Alice can recover the factorization by computing the gcd. This factorization should be equal to one of the prime factors of n.\n",
    "\n",
    "To demonstrate this, we present the following code. We use 1024 bits here for ease of computation."
   ]
  },
  {
   "cell_type": "code",
   "execution_count": null,
   "metadata": {},
   "outputs": [],
   "source": [
    "scheme = RSA(powmodn=bit_pow_mod_n, sign=True)\n",
    "\n",
    "bit_length = 1024\n",
    "e = 65537\n",
    "\n",
    "print(\"\\n\\n-------------------------------------------------------------\")\n",
    "print(\"\\nThe random fault attack:\")\n",
    "print(\"Generating\", bit_length, \"-bit keys...\")\n",
    "\n",
    "(p, q, n, l, e, d, public_key, private_key) = scheme.generate_keys(bit_length, e)\n",
    "\n",
    "message = \"Please attach your signature.\"\n",
    "print(\"\\n Message to be signed:\\n\\n\\t\", message)\n",
    "m = string2int(message)\n",
    "\n",
    "s = scheme.rsa_sign(m, private_key, p, q)\n",
    "print(\"\\n Signature creation successful!\")\n",
    "\n",
    "s1 = scheme.rsa_sign(m, private_key, p, q, faulty=True)  # random bit flip\n",
    "\n",
    "print(\"\\n Created corrupted signature \\n\")\n",
    "\n",
    "m1 = scheme.rsa_verify(s1, public_key)\n",
    "\n",
    "print(\"Are m and m' the same? \\t\", m1==m)\n",
    "\n",
    "recovered_factor = gcd(n, m - m1)\n",
    "\n",
    "print(\"Is recovered_factor=p?\\t\", recovered_factor==p)\n",
    "print(\"Is recovered_factor=q?\\t\", recovered_factor==q)"
   ]
  },
  {
   "cell_type": "markdown",
   "metadata": {},
   "source": [
    "We note here that $gcd(n, m - m')=p$, verifying the correctness of our fault attack implementation."
   ]
  },
  {
   "cell_type": "markdown",
   "metadata": {},
   "source": [
    "## The Timing Attack"
   ]
  },
  {
   "cell_type": "code",
   "execution_count": null,
   "metadata": {},
   "outputs": [],
   "source": [
    "##To be implemented"
   ]
  }
 ],
 "metadata": {
  "kernelspec": {
   "display_name": "Python 3",
   "language": "python",
   "name": "python3"
  },
  "language_info": {
   "codemirror_mode": {
    "name": "ipython",
    "version": 3
   },
   "file_extension": ".py",
   "mimetype": "text/x-python",
   "name": "python",
   "nbconvert_exporter": "python",
   "pygments_lexer": "ipython3",
   "version": "3.7.3"
  }
 },
 "nbformat": 4,
 "nbformat_minor": 2
}
